{
 "cells": [
  {
   "cell_type": "markdown",
   "id": "173ddfe3",
   "metadata": {},
   "source": [
    "## A mini SymPy tutorial"
   ]
  },
  {
   "cell_type": "markdown",
   "id": "41dc7643",
   "metadata": {},
   "source": [
    "<a href=\"https://colab.research.google.com/github/uqglmn/pi/blob/main/sympy_tutorial.ipynb\" target=\"_parent\"><img src=\"https://colab.research.google.com/assets/colab-badge.svg\" alt=\"Open In Colab\"/></a>"
   ]
  },
  {
   "cell_type": "markdown",
   "id": "580eadd8",
   "metadata": {},
   "source": [
    "This tutorial is aimed to drill your SymPy skills. For a complete guide, please visit [SymPy homepage](https://docs.sympy.org/latest/index.html).\n",
    "\n",
    "Let us begin by importing everything from SymPy:"
   ]
  },
  {
   "cell_type": "code",
   "execution_count": 1,
   "id": "5d6a0e60",
   "metadata": {},
   "outputs": [],
   "source": [
    "from sympy import *"
   ]
  },
  {
   "cell_type": "markdown",
   "id": "62277aaa",
   "metadata": {},
   "source": [
    "This code makes the outputs look better:"
   ]
  },
  {
   "cell_type": "code",
   "execution_count": 2,
   "id": "dfb5ff3c",
   "metadata": {},
   "outputs": [],
   "source": [
    "init_printing(use_unicode=True)"
   ]
  },
  {
   "cell_type": "markdown",
   "id": "42ccba21",
   "metadata": {},
   "source": [
    "### 1. Symbolic manipulations"
   ]
  },
  {
   "cell_type": "markdown",
   "id": "afc81c28",
   "metadata": {},
   "source": [
    "Let us define a symbolic expression, representing the mathematical expression $x^2+4y$:"
   ]
  },
  {
   "cell_type": "code",
   "execution_count": 3,
   "id": "438ed233",
   "metadata": {},
   "outputs": [
    {
     "data": {
      "image/png": "[encoded data removed]",
      "text/latex": [
       "$\\displaystyle x^{2} + 4 y$"
      ],
      "text/plain": [
       " 2      \n",
       "x  + 4⋅y"
      ]
     },
     "execution_count": 3,
     "metadata": {},
     "output_type": "execute_result"
    }
   ],
   "source": [
    "x, y = symbols(\"x y\")     # define symbols\n",
    "expr = x**2 + 4*y         # define the expression\n",
    "expr                      # display the expression"
   ]
  },
  {
   "cell_type": "markdown",
   "id": "09f36d64",
   "metadata": {},
   "source": [
    "This beautiful expression is a result of Jupyter Notebook processing. The standard Pyhton print does not have such a feature: "
   ]
  },
  {
   "cell_type": "code",
   "execution_count": 4,
   "id": "1f7a3ba1",
   "metadata": {},
   "outputs": [
    {
     "name": "stdout",
     "output_type": "stream",
     "text": [
      "x**2 + 4*y\n"
     ]
    }
   ],
   "source": [
    "print(expr) # Python print"
   ]
  },
  {
   "cell_type": "markdown",
   "id": "939a87a0",
   "metadata": {},
   "source": [
    "Let us demonstrate one more example, with trigonometric functions, $\\sqrt{\\sin^2(\\alpha) + \\cos^2(\\beta)}$:"
   ]
  },
  {
   "cell_type": "code",
   "execution_count": 5,
   "id": "0ce92581",
   "metadata": {},
   "outputs": [
    {
     "data": {
      "image/png": "[encoded data removed]",
      "text/latex": [
       "$\\displaystyle \\sqrt{\\sin{\\left(\\alpha^{2} \\right)} + \\cos{\\left(\\beta^{2} \\right)}}$"
      ],
      "text/plain": [
       "   ___________________\n",
       "  ╱    ⎛ 2⎞      ⎛ 2⎞ \n",
       "╲╱  sin⎝α ⎠ + cos⎝β ⎠ "
      ]
     },
     "execution_count": 5,
     "metadata": {},
     "output_type": "execute_result"
    }
   ],
   "source": [
    "al, be = symbols(\"alpha, beta\") \n",
    "expr = sqrt(sin(al**2) + cos(be**2))\n",
    "expr"
   ]
  },
  {
   "cell_type": "markdown",
   "id": "ae897b17",
   "metadata": {},
   "source": [
    "Note that ``sqrt()``, ``sin()``, and ``cos()`` above are from the SymPy library. \n",
    "\n",
    "In fact, in SymPy, sqrt(x) is just a shortcut to ``x**Rational(1, 2)``. They are exactly the same object:"
   ]
  },
  {
   "cell_type": "code",
   "execution_count": 6,
   "id": "4ee1ad1f",
   "metadata": {},
   "outputs": [
    {
     "data": {
      "text/plain": [
       "True"
      ]
     },
     "execution_count": 6,
     "metadata": {},
     "output_type": "execute_result"
    }
   ],
   "source": [
    "sqrt(x) == x**Rational(1, 2)"
   ]
  },
  {
   "cell_type": "markdown",
   "id": "c93519e9",
   "metadata": {},
   "source": [
    "One of the most useful features of a symbolic manipulation system is the ability to simplify mathematical expressions. SymPy has dozens of functions to perform various kinds of simplification: ``expand()``, ``collect()``, ``factor()``, ``cancel()``, ``apart()``, ``trigsimp()``, ``expand_trig()``, ``powsimp()``, and many more.\n",
    "\n",
    "The most important function is called ``simplify()``. It attempts to apply all of these functions in an intelligent way to arrive at the simplest form of an expression. Here are some examples:\n",
    "\n",
    "$$\\sin^2(x) + \\cos^2(x) $$\n",
    "\n",
    "$$\\dfrac{x^3+x^2-x-1}{x^2 + 2x+1}$$\n",
    "\n",
    "$$\\dfrac{\\Gamma(x)}{\\Gamma(x-2)}$$\n"
   ]
  },
  {
   "cell_type": "code",
   "execution_count": 6,
   "id": "f196c411",
   "metadata": {},
   "outputs": [
    {
     "data": {
      "image/png": "[encoded data removed]",
      "text/latex": [
       "$\\displaystyle 1$"
      ],
      "text/plain": [
       "1"
      ]
     },
     "execution_count": 6,
     "metadata": {},
     "output_type": "execute_result"
    }
   ],
   "source": [
    "simplify(sin(x)**2 + cos(x)**2)"
   ]
  },
  {
   "cell_type": "code",
   "execution_count": 7,
   "id": "cde23e4f",
   "metadata": {},
   "outputs": [
    {
     "data": {
      "image/png": "[encoded data removed]",
      "text/latex": [
       "$\\displaystyle x - 1$"
      ],
      "text/plain": [
       "x - 1"
      ]
     },
     "execution_count": 7,
     "metadata": {},
     "output_type": "execute_result"
    }
   ],
   "source": [
    "simplify((x**3 + x**2 - x - 1)/(x**2 + 2*x + 1))"
   ]
  },
  {
   "cell_type": "code",
   "execution_count": 8,
   "id": "c7d3dadd",
   "metadata": {},
   "outputs": [
    {
     "data": {
      "image/png": "[encoded data removed]",
      "text/latex": [
       "$\\displaystyle \\left(x - 2\\right) \\left(x - 1\\right)$"
      ],
      "text/plain": [
       "(x - 2)⋅(x - 1)"
      ]
     },
     "execution_count": 8,
     "metadata": {},
     "output_type": "execute_result"
    }
   ],
   "source": [
    "simplify(gamma(x)/gamma(x - 2))"
   ]
  },
  {
   "cell_type": "markdown",
   "id": "c94cf496",
   "metadata": {},
   "source": [
    "Here, ``gamma(x)`` is the [gamma function](https://en.wikipedia.org/wiki/Gamma_function). We see that ``simplify()`` is capable of handling a large class of expressions.\n",
    "\n",
    "For more examples, see [documentation](https://docs.sympy.org/latest/tutorials/intro-tutorial/simplification.html). "
   ]
  },
  {
   "cell_type": "markdown",
   "id": "d444b7b5",
   "metadata": {},
   "source": [
    "**Important!** Note the difference between the following two statements"
   ]
  },
  {
   "cell_type": "code",
   "execution_count": 9,
   "id": "69d0d977",
   "metadata": {},
   "outputs": [
    {
     "data": {
      "image/png": "[encoded data removed]",
      "text/latex": [
       "$\\displaystyle x + 2$"
      ],
      "text/plain": [
       "x + 2"
      ]
     },
     "execution_count": 9,
     "metadata": {},
     "output_type": "execute_result"
    }
   ],
   "source": [
    "x+2"
   ]
  },
  {
   "cell_type": "code",
   "execution_count": 10,
   "id": "595a7676",
   "metadata": {},
   "outputs": [
    {
     "ename": "NameError",
     "evalue": "name 'p' is not defined",
     "output_type": "error",
     "traceback": [
      "\u001b[0;31m---------------------------------------------------------------------------\u001b[0m",
      "\u001b[0;31mNameError\u001b[0m                                 Traceback (most recent call last)",
      "\u001b[0;32m/tmp/ipykernel_43442/757751618.py\u001b[0m in \u001b[0;36m<module>\u001b[0;34m\u001b[0m\n\u001b[0;32m----> 1\u001b[0;31m \u001b[0mp\u001b[0m\u001b[0;34m+\u001b[0m\u001b[0;36m2\u001b[0m\u001b[0;34m\u001b[0m\u001b[0;34m\u001b[0m\u001b[0m\n\u001b[0m",
      "\u001b[0;31mNameError\u001b[0m: name 'p' is not defined"
     ]
    }
   ],
   "source": [
    "p+2"
   ]
  },
  {
   "cell_type": "markdown",
   "id": "24be5fdd",
   "metadata": {},
   "source": [
    "The name ``x`` is defined as a symbol, so SymPy knows that ``x+2`` is an expression; but ``p`` is not defined, hence the error message."
   ]
  },
  {
   "cell_type": "markdown",
   "id": "f08599f0",
   "metadata": {},
   "source": [
    "**Exercise 1.1** Simplify the following mathematical expressions:\n",
    "\n",
    "$$\n",
    "(x+y)^3-3 x^2 y-3 x y^2\n",
    "$$\n",
    "\n",
    "$$ \n",
    "\\frac{z-1}{2}+\\frac{3 z+2}{4}\n",
    "$$\n",
    "\n",
    "$$ \n",
    "3 \\sin \\alpha - 4 \\sin^3 \\alpha\n",
    "$$"
   ]
  },
  {
   "cell_type": "code",
   "execution_count": 11,
   "id": "9570dab3",
   "metadata": {},
   "outputs": [],
   "source": [
    "# write your solutions here"
   ]
  },
  {
   "cell_type": "code",
   "execution_count": 12,
   "id": "592c9265",
   "metadata": {},
   "outputs": [],
   "source": [
    "# write your solution here"
   ]
  },
  {
   "cell_type": "code",
   "execution_count": 13,
   "id": "528a0a67",
   "metadata": {},
   "outputs": [],
   "source": [
    "# write your solution here"
   ]
  },
  {
   "cell_type": "markdown",
   "id": "a96ffe4f",
   "metadata": {},
   "source": [
    "To substitute a given value into an expression, call the ``.subs()`` method, passing a Python dictionary ``({key: value})``:"
   ]
  },
  {
   "cell_type": "code",
   "execution_count": 14,
   "id": "760f1f58",
   "metadata": {},
   "outputs": [
    {
     "data": {
      "image/png": "[encoded data removed]",
      "text/latex": [
       "$\\displaystyle \\cos{\\left(2 \\right)} + \\sin{\\left(1 \\right)}$"
      ],
      "text/plain": [
       "cos(2) + sin(1)"
      ]
     },
     "execution_count": 14,
     "metadata": {},
     "output_type": "execute_result"
    }
   ],
   "source": [
    "expr = sin(x) + cos(y) # define expression\n",
    "expr.subs({x:1, y:2})  # evaluate at x=1 and y=2"
   ]
  },
  {
   "cell_type": "markdown",
   "id": "caa06f06",
   "metadata": {},
   "source": [
    "To get a numeric value, call the ``.n()`` method:"
   ]
  },
  {
   "cell_type": "code",
   "execution_count": 15,
   "id": "0d74595b",
   "metadata": {},
   "outputs": [
    {
     "data": {
      "image/png": "[encoded data removed]",
      "text/latex": [
       "$\\displaystyle 0.425324148260754$"
      ],
      "text/plain": [
       "0.425324148260754"
      ]
     },
     "execution_count": 15,
     "metadata": {},
     "output_type": "execute_result"
    }
   ],
   "source": [
    "expr.subs({x:1, y:2}).n()"
   ]
  },
  {
   "cell_type": "markdown",
   "id": "39cdf902",
   "metadata": {},
   "source": [
    "**Exercise 1.2** Evaluate the following mathematical expressions:\n",
    "\n",
    "$$\n",
    "x \\log(3y) \\;\\text{ at }\\; x=2,\\; y=5 \n",
    "$$\n",
    "\n",
    "$$\n",
    "e^{-z^2} \\;\\text{ at }\\; z=10\n",
    "$$"
   ]
  },
  {
   "cell_type": "code",
   "execution_count": 16,
   "id": "c3069616",
   "metadata": {},
   "outputs": [],
   "source": [
    "# write your solution here"
   ]
  },
  {
   "cell_type": "code",
   "execution_count": 17,
   "id": "e0f6bbb1",
   "metadata": {},
   "outputs": [],
   "source": [
    "# write your solution here"
   ]
  },
  {
   "cell_type": "markdown",
   "id": "932a4230",
   "metadata": {
    "heading_collapsed": true
   },
   "source": [
    "### 2. Solving equations"
   ]
  },
  {
   "cell_type": "markdown",
   "id": "319a5e95",
   "metadata": {
    "hidden": true
   },
   "source": [
    "The function ``solve()`` is probably the most powerful tool of SymPy. It can basically solve any equation.\n",
    "The function takes two arguments: ``solve(expr, var)``. This solves the equation ``expr==0`` for the variable ``var``. \n",
    "\n",
    "You can rewrite any equation to the form ``expr==0``, by moving all term to one side of the equation; the solutions to $A(x) = B(x)$ are the same as the solutions to $A(x) - B(x) = 0$.\n",
    "\n",
    "For example, let us solve the quadratic equation $x^2 + 2 x - 8 = 0$:"
   ]
  },
  {
   "cell_type": "code",
   "execution_count": 18,
   "id": "3e14aeb5",
   "metadata": {
    "hidden": true
   },
   "outputs": [
    {
     "data": {
      "image/png": "[encoded data removed]",
      "text/latex": [
       "$\\displaystyle \\left[ -4, \\  2\\right]$"
      ],
      "text/plain": [
       "[-4, 2]"
      ]
     },
     "execution_count": 18,
     "metadata": {},
     "output_type": "execute_result"
    }
   ],
   "source": [
    "solve(x**2 + 2*x - 8, x)"
   ]
  },
  {
   "cell_type": "markdown",
   "id": "d298d4a2",
   "metadata": {
    "hidden": true
   },
   "source": [
    "**Exercise 2.1** Solve the depressed cubic equation $x^3 - 6x + 4 = 0$: "
   ]
  },
  {
   "cell_type": "code",
   "execution_count": 19,
   "id": "bffbd16c",
   "metadata": {
    "hidden": true
   },
   "outputs": [],
   "source": [
    "# write your solution here"
   ]
  },
  {
   "cell_type": "markdown",
   "id": "9ec140e5",
   "metadata": {
    "hidden": true
   },
   "source": [
    "To solve a system of equations, you can feed solve with a list of equations and a list of unknowns it should solve those equations for. For example, let us solve the following system of linear equations:\n",
    "\n",
    "$$\n",
    "\\begin{cases}\n",
    "x + y = 3 \\\\\n",
    "3x - 2y = 0\n",
    "\\end{cases}\n",
    "$$"
   ]
  },
  {
   "cell_type": "code",
   "execution_count": 20,
   "id": "ed1ec5a5",
   "metadata": {
    "hidden": true
   },
   "outputs": [
    {
     "data": {
      "image/png": "[encoded data removed]",
      "text/latex": [
       "$\\displaystyle \\left\\{ x : \\frac{6}{5}, \\  y : \\frac{9}{5}\\right\\}$"
      ],
      "text/plain": [
       "{x: 6/5, y: 9/5}"
      ]
     },
     "execution_count": 20,
     "metadata": {},
     "output_type": "execute_result"
    }
   ],
   "source": [
    "solve( [x+y-3, 3*x-2*y], [x,y] )"
   ]
  },
  {
   "cell_type": "markdown",
   "id": "3a80cf59",
   "metadata": {
    "hidden": true
   },
   "source": [
    "**Exercise 2.2** Solve the following system of linear equations:\n",
    "\n",
    "$$\n",
    "\\begin{cases}\n",
    "x + y - z = 2 \\\\\n",
    "2x - 2y = 0 \\\\\n",
    "4x - 3z = -1\n",
    "\\end{cases}\n",
    "$$"
   ]
  },
  {
   "cell_type": "code",
   "execution_count": 21,
   "id": "e3e8773b",
   "metadata": {
    "hidden": true
   },
   "outputs": [],
   "source": [
    "# write your solution here"
   ]
  },
  {
   "cell_type": "markdown",
   "id": "e10b145a",
   "metadata": {
    "hidden": true
   },
   "source": [
    "The best part of solve is, that it also works with symbolic expressions. For example let us look for the solution of $ax^2 + bx + c=0$:"
   ]
  },
  {
   "cell_type": "code",
   "execution_count": 22,
   "id": "d8eb7757",
   "metadata": {
    "hidden": true
   },
   "outputs": [
    {
     "data": {
      "image/png": "[encoded data removed]",
      "text/latex": [
       "$\\displaystyle \\left[ \\frac{- b - \\sqrt{- 4 a c + b^{2}}}{2 a}, \\  \\frac{- b + \\sqrt{- 4 a c + b^{2}}}{2 a}\\right]$"
      ],
      "text/plain": [
       "⎡        _____________          _____________⎤\n",
       "⎢       ╱           2          ╱           2 ⎥\n",
       "⎢-b - ╲╱  -4⋅a⋅c + b    -b + ╲╱  -4⋅a⋅c + b  ⎥\n",
       "⎢─────────────────────, ─────────────────────⎥\n",
       "⎣         2⋅a                    2⋅a         ⎦"
      ]
     },
     "execution_count": 22,
     "metadata": {},
     "output_type": "execute_result"
    }
   ],
   "source": [
    "a, b, c = symbols(\"a b c\")\n",
    "solve(a*x**2 + b*x + c, x)"
   ]
  },
  {
   "cell_type": "markdown",
   "id": "00906a09",
   "metadata": {
    "hidden": true
   },
   "source": [
    "**Exercise 2.3** Find solutions to the depressed cubic equation $a z^3 + b z + c = 0$. Then evaluate these solution at chosen values of parameters $a$, $b$, and $c$."
   ]
  },
  {
   "cell_type": "code",
   "execution_count": 23,
   "id": "4bbc8f47",
   "metadata": {
    "hidden": true
   },
   "outputs": [],
   "source": [
    "# write your solution here"
   ]
  },
  {
   "cell_type": "code",
   "execution_count": 24,
   "id": "bf76122c",
   "metadata": {
    "hidden": true
   },
   "outputs": [],
   "source": [
    "# write your solution here"
   ]
  },
  {
   "cell_type": "code",
   "execution_count": 25,
   "id": "95934eb2",
   "metadata": {
    "hidden": true
   },
   "outputs": [],
   "source": [
    "# write your solution here"
   ]
  },
  {
   "cell_type": "code",
   "execution_count": 26,
   "id": "f074e802",
   "metadata": {
    "hidden": true
   },
   "outputs": [],
   "source": [
    "# write your solution here"
   ]
  },
  {
   "cell_type": "code",
   "execution_count": 27,
   "id": "94b20490",
   "metadata": {
    "hidden": true
   },
   "outputs": [],
   "source": [
    "# write your solution here"
   ]
  },
  {
   "cell_type": "markdown",
   "id": "631e4cc6",
   "metadata": {
    "heading_collapsed": true
   },
   "source": [
    "### 3. Limits"
   ]
  },
  {
   "cell_type": "markdown",
   "id": "bcfe064e",
   "metadata": {
    "hidden": true
   },
   "source": [
    "With limits we can describe, with mathematical precision, infinitely large quantities, infinitely small quantities, and procedures with infinitely many steps.\n",
    "\n",
    "For example the number $e$ is defined as the limit \n",
    "\n",
    "$$\n",
    "e := \\lim_{n\\to \\infty} \\left( 1 + \\frac1n\\right)^n = 2.71828182845905...\n",
    "$$\n",
    "\n",
    "Let see how fast the expression inside the limit approaches the limit:"
   ]
  },
  {
   "cell_type": "code",
   "execution_count": 28,
   "id": "bcbbe18c",
   "metadata": {
    "hidden": true
   },
   "outputs": [
    {
     "name": "stdout",
     "output_type": "stream",
     "text": [
      "n=   10, (1+1/n)**n=2.593742460\n",
      "n=  100, (1+1/n)**n=2.704813829\n",
      "n= 1000, (1+1/n)**n=2.716923932\n",
      "n=10000, (1+1/n)**n=2.718145927\n"
     ]
    }
   ],
   "source": [
    "for n in [10,100,1000,10000]:\n",
    "    print(f\"n=%5d, (1+1/n)**n=%.9f\" % (n, (1+1/n)**n))"
   ]
  },
  {
   "cell_type": "markdown",
   "id": "a1139656",
   "metadata": {
    "hidden": true
   },
   "source": [
    "The limit is:"
   ]
  },
  {
   "cell_type": "code",
   "execution_count": 29,
   "id": "2d793c25",
   "metadata": {
    "hidden": true
   },
   "outputs": [
    {
     "data": {
      "image/png": "[encoded data removed]",
      "text/latex": [
       "$\\displaystyle e$"
      ],
      "text/plain": [
       "ℯ"
      ]
     },
     "execution_count": 29,
     "metadata": {},
     "output_type": "execute_result"
    }
   ],
   "source": [
    "n = symbols(\"n\")\n",
    "limit( (1+1/n)**n, n, oo ) # oo denotes infinity in SymPy, "
   ]
  },
  {
   "cell_type": "markdown",
   "id": "cdae6dcd",
   "metadata": {
    "hidden": true
   },
   "source": [
    "The SymPy symbol for $e$ is ``E``. It's numerical value is:"
   ]
  },
  {
   "cell_type": "code",
   "execution_count": 30,
   "id": "340eebf6",
   "metadata": {
    "hidden": true
   },
   "outputs": [
    {
     "data": {
      "image/png": "[encoded data removed]",
      "text/latex": [
       "$\\displaystyle 2.71828182845905$"
      ],
      "text/plain": [
       "2.71828182845905"
      ]
     },
     "execution_count": 30,
     "metadata": {},
     "output_type": "execute_result"
    }
   ],
   "source": [
    "E.n()"
   ]
  },
  {
   "cell_type": "markdown",
   "id": "f2c20196",
   "metadata": {
    "hidden": true
   },
   "source": [
    "**Exercise 3.1** Compute the following limits:\n",
    "\n",
    "$$\n",
    "\\lim_{x \\to 0}\\frac{\\sin(x)}{x}\n",
    "$$\n",
    "\n",
    "$$\n",
    "\\lim_{x \\to 0}\\frac{(1+x)^5 - (1+5x)}{x^2 + x^5}\n",
    "$$\n",
    "\n",
    "$$\n",
    "\\lim_{n \\to \\infty} n \\tan\\left( \\frac{2 \\pi}{2 n} \\right)\n",
    "$$\n",
    "\n",
    "P.S. Try evaluating the expressions first!"
   ]
  },
  {
   "cell_type": "code",
   "execution_count": 31,
   "id": "d3c956e7",
   "metadata": {
    "hidden": true
   },
   "outputs": [],
   "source": [
    "# write your solution here"
   ]
  },
  {
   "cell_type": "code",
   "execution_count": 32,
   "id": "6ca4b0a8",
   "metadata": {
    "hidden": true
   },
   "outputs": [],
   "source": [
    "# write your solution here"
   ]
  },
  {
   "cell_type": "code",
   "execution_count": 33,
   "id": "b7b33ba7",
   "metadata": {
    "hidden": true
   },
   "outputs": [],
   "source": [
    "# write your solution here"
   ]
  },
  {
   "cell_type": "code",
   "execution_count": 34,
   "id": "01477b13",
   "metadata": {
    "hidden": true
   },
   "outputs": [],
   "source": [
    "# write your solution here"
   ]
  },
  {
   "cell_type": "code",
   "execution_count": 35,
   "id": "5289791c",
   "metadata": {
    "hidden": true
   },
   "outputs": [],
   "source": [
    "# write your solution here"
   ]
  },
  {
   "cell_type": "code",
   "execution_count": 36,
   "id": "1c885e11",
   "metadata": {
    "hidden": true
   },
   "outputs": [],
   "source": [
    "# write your solution here"
   ]
  },
  {
   "cell_type": "markdown",
   "id": "b852f821",
   "metadata": {
    "heading_collapsed": true
   },
   "source": [
    "### 4. Derivatives"
   ]
  },
  {
   "cell_type": "markdown",
   "id": "e974b74c",
   "metadata": {
    "hidden": true
   },
   "source": [
    "To take derivatives, use the ``diff()`` function. For example, the derivative of $x^4 - x + 4$ with respect to $x$ is:"
   ]
  },
  {
   "cell_type": "code",
   "execution_count": 37,
   "id": "c1c8e5f0",
   "metadata": {
    "hidden": true
   },
   "outputs": [
    {
     "data": {
      "image/png": "[encoded data removed]",
      "text/latex": [
       "$\\displaystyle 4 x^{3} - 1$"
      ],
      "text/plain": [
       "   3    \n",
       "4⋅x  - 1"
      ]
     },
     "execution_count": 37,
     "metadata": {},
     "output_type": "execute_result"
    }
   ],
   "source": [
    "diff(x**4 - x + 4, x)"
   ]
  },
  {
   "cell_type": "markdown",
   "id": "550e0f10",
   "metadata": {
    "hidden": true
   },
   "source": [
    "To take the second order derivatives, simply write:"
   ]
  },
  {
   "cell_type": "code",
   "execution_count": 38,
   "id": "f5c58a81",
   "metadata": {
    "hidden": true
   },
   "outputs": [
    {
     "data": {
      "image/png": "[encoded data removed]",
      "text/latex": [
       "$\\displaystyle 12 x^{2}$"
      ],
      "text/plain": [
       "    2\n",
       "12⋅x "
      ]
     },
     "execution_count": 38,
     "metadata": {},
     "output_type": "execute_result"
    }
   ],
   "source": [
    "diff(x**4 - x + 4, x, x)"
   ]
  },
  {
   "cell_type": "markdown",
   "id": "ffeb0d63",
   "metadata": {
    "hidden": true
   },
   "source": [
    "Partial derivatives are taken in a similar way. For example:\n",
    "\n",
    "$$\n",
    "\\frac{\\partial^2}{\\partial x \\partial y} ( x^2 y + 3 x \\sin(y))\n",
    "$$"
   ]
  },
  {
   "cell_type": "code",
   "execution_count": 39,
   "id": "6ac97c46",
   "metadata": {
    "hidden": true
   },
   "outputs": [
    {
     "data": {
      "image/png": "[encoded data removed]",
      "text/latex": [
       "$\\displaystyle 2 x + 3 \\cos{\\left(y \\right)}$"
      ],
      "text/plain": [
       "2⋅x + 3⋅cos(y)"
      ]
     },
     "execution_count": 39,
     "metadata": {},
     "output_type": "execute_result"
    }
   ],
   "source": [
    "diff( x**2*y + 3*x*sin(y), x, y)"
   ]
  },
  {
   "cell_type": "markdown",
   "id": "053f6ea1",
   "metadata": {
    "hidden": true
   },
   "source": [
    "**Exercise 4.1** Compute the following derivatives:\n",
    "\n",
    "$$\n",
    "\\frac{d}{dx} (x^x)\n",
    "$$\n",
    "\n",
    "$$\n",
    "\\frac{d^4}{dx^4} (e^{2x} + x^3 + \\cos(x)) \n",
    "$$\n",
    "\n",
    "$$\n",
    "\\frac{\\partial^2}{\\partial x \\partial y} \\log(x-y)\n",
    "$$\n",
    "\n",
    "P.S. Try computing the derivatives by hand first!"
   ]
  },
  {
   "cell_type": "code",
   "execution_count": 40,
   "id": "6241b966",
   "metadata": {
    "hidden": true
   },
   "outputs": [],
   "source": [
    "# write your solution here"
   ]
  },
  {
   "cell_type": "code",
   "execution_count": 41,
   "id": "becb0618",
   "metadata": {
    "hidden": true
   },
   "outputs": [],
   "source": [
    "# write your solution here"
   ]
  },
  {
   "cell_type": "code",
   "execution_count": 42,
   "id": "22cbc709",
   "metadata": {
    "hidden": true
   },
   "outputs": [],
   "source": [
    "# write your solution here"
   ]
  },
  {
   "cell_type": "markdown",
   "id": "0050f4f5",
   "metadata": {
    "heading_collapsed": true
   },
   "source": [
    "### 5. integrals"
   ]
  },
  {
   "cell_type": "markdown",
   "id": "a8377828",
   "metadata": {
    "hidden": true
   },
   "source": [
    "To compute an integral, use the ``integrate()`` function. There are two kinds of integrals, definite and indefinite. \n",
    "\n",
    "To compute an indefinite integral, that is, an antiderivative, or primitive, use ``integrate(expression, integration_variable)``. For example, to compute\n",
    "\n",
    "$$\n",
    "\\int \\cos(x)\\, dx \n",
    "$$\n",
    "\n",
    "you need to write:"
   ]
  },
  {
   "cell_type": "code",
   "execution_count": 43,
   "id": "4831b2e4",
   "metadata": {
    "hidden": true
   },
   "outputs": [
    {
     "data": {
      "image/png": "[encoded data removed]",
      "text/latex": [
       "$\\displaystyle \\sin{\\left(x \\right)}$"
      ],
      "text/plain": [
       "sin(x)"
      ]
     },
     "execution_count": 43,
     "metadata": {},
     "output_type": "execute_result"
    }
   ],
   "source": [
    "integrate(cos(x), x)"
   ]
  },
  {
   "cell_type": "markdown",
   "id": "5ae2c510",
   "metadata": {
    "hidden": true
   },
   "source": [
    "Note that SymPy does not include the constant of integration. If you want it, you can add one yourself."
   ]
  },
  {
   "cell_type": "markdown",
   "id": "ea6584fc",
   "metadata": {
    "hidden": true
   },
   "source": [
    "To compute a definite integral, use ``integrate(expression, (integration_variable, lower_limit, upper_limit))``. For example, to compute\n",
    "\n",
    "$$\n",
    "\\int_0^\\infty e^{-x} dx\n",
    "$$\n",
    "\n",
    "you need to write:"
   ]
  },
  {
   "cell_type": "code",
   "execution_count": 44,
   "id": "f7f22d23",
   "metadata": {
    "hidden": true
   },
   "outputs": [
    {
     "data": {
      "image/png": "[encoded data removed]",
      "text/latex": [
       "$\\displaystyle 1$"
      ],
      "text/plain": [
       "1"
      ]
     },
     "execution_count": 44,
     "metadata": {},
     "output_type": "execute_result"
    }
   ],
   "source": [
    "integrate(exp(-x), (x, 0, oo))"
   ]
  },
  {
   "cell_type": "markdown",
   "id": "a74b078a",
   "metadata": {
    "hidden": true
   },
   "source": [
    "**Exercise 5.1** Compute the following integrals:\n",
    "\n",
    "$$\n",
    "\\int (3x^2 - 4) \\, dx\n",
    "$$\n",
    "\n",
    "$$\n",
    "\\int x^{-1} dx\n",
    "$$\n",
    "\n",
    "$$\n",
    "\\int \\log(x) dx\n",
    "$$\n",
    "\n",
    "$$\n",
    "\\int_0^{\\pi} \\sin^2(x)\\, dx\n",
    "$$\n",
    "\n",
    "P.S. Use pi for $\\pi$."
   ]
  },
  {
   "cell_type": "code",
   "execution_count": 45,
   "id": "ed14ff58",
   "metadata": {
    "hidden": true
   },
   "outputs": [],
   "source": [
    "# write your solution here"
   ]
  },
  {
   "cell_type": "code",
   "execution_count": 46,
   "id": "ba794389",
   "metadata": {
    "hidden": true
   },
   "outputs": [],
   "source": [
    "# write your solution here"
   ]
  },
  {
   "cell_type": "code",
   "execution_count": 47,
   "id": "924fa60a",
   "metadata": {
    "hidden": true
   },
   "outputs": [],
   "source": [
    "# write your solution here"
   ]
  },
  {
   "cell_type": "code",
   "execution_count": 48,
   "id": "e51263f0",
   "metadata": {
    "hidden": true
   },
   "outputs": [],
   "source": [
    "# write your solution here"
   ]
  },
  {
   "cell_type": "markdown",
   "id": "4962a215",
   "metadata": {
    "hidden": true
   },
   "source": [
    "You can pass multiple limit tuples to perform a multiple integral. For example, to compute\n",
    "\n",
    "$$\n",
    "\\int_{-\\infty}^{\\infty} \\int_{-\\infty}^{\\infty} e^{-x^2 - y^2} dx\\,dy\n",
    "$$\n",
    "\n",
    "you need to write:"
   ]
  },
  {
   "cell_type": "code",
   "execution_count": 49,
   "id": "457aff35",
   "metadata": {
    "hidden": true
   },
   "outputs": [
    {
     "data": {
      "image/png": "[encoded data removed]",
      "text/latex": [
       "$\\displaystyle \\pi$"
      ],
      "text/plain": [
       "π"
      ]
     },
     "execution_count": 49,
     "metadata": {},
     "output_type": "execute_result"
    }
   ],
   "source": [
    "integrate( exp(-x**2 - y**2), (x, -oo, oo), (y, -oo, oo))"
   ]
  },
  {
   "cell_type": "markdown",
   "id": "6cd6f51e",
   "metadata": {
    "hidden": true
   },
   "source": [
    "**Exercise 5.2** Compute the mass of a 1x1x1 box filled with material of density $\\rho(x,y,z) = z^2-xy+1$, that is, compute the triple integral\n",
    "\n",
    "$$\n",
    "\\iiint_0^1 \\rho(x,y,z)\\,dx\\,dy\\,dz\n",
    "$$"
   ]
  },
  {
   "cell_type": "code",
   "execution_count": 50,
   "id": "1629be80",
   "metadata": {
    "hidden": true
   },
   "outputs": [],
   "source": [
    "# write your solution here"
   ]
  },
  {
   "cell_type": "markdown",
   "id": "cc97befe",
   "metadata": {
    "heading_collapsed": true
   },
   "source": [
    "### 6. Series expansion"
   ]
  },
  {
   "cell_type": "markdown",
   "id": "11991c28",
   "metadata": {
    "hidden": true
   },
   "source": [
    "SymPy can compute asymptotic series expansions of functions around a point. To compute the expansion of $f(x)$ around the point $x=x_0$ terms of order $x^n$, use ``f(x).series(x, x0, n+1)``. For example, to compute the series of $\\exp(\\sin(x))$ at $x=0$ to the 4-th order, \n",
    "\n",
    "$$\n",
    "e^{\\sin(x)} = 1+x+\\frac{x^2}{2}-\\frac{x^4}{8} + \\mathcal{O}(x^5)\n",
    "$$\n",
    "\n",
    "you need to write:"
   ]
  },
  {
   "cell_type": "code",
   "execution_count": 51,
   "id": "7374dbcd",
   "metadata": {
    "hidden": true
   },
   "outputs": [
    {
     "data": {
      "image/png": "[encoded data removed]",
      "text/latex": [
       "$\\displaystyle 1 + x + \\frac{x^{2}}{2} - \\frac{x^{4}}{8} + O\\left(x^{5}\\right)$"
      ],
      "text/plain": [
       "         2    4        \n",
       "        x    x     ⎛ 5⎞\n",
       "1 + x + ── - ── + O⎝x ⎠\n",
       "        2    8         "
      ]
     },
     "execution_count": 51,
     "metadata": {},
     "output_type": "execute_result"
    }
   ],
   "source": [
    "expr = exp(sin(x))\n",
    "expr.series(x, 0, 5)"
   ]
  },
  {
   "cell_type": "markdown",
   "id": "70f1446f",
   "metadata": {
    "hidden": true
   },
   "source": [
    "**Exercise 6.1** Compute the expansions of the following functions to the given order:\n",
    "\n",
    "$$\n",
    "\\log(x) , \\; x_0 = 1, \\; n =5\n",
    "$$\n",
    "\n",
    "$$\n",
    "\\frac{1}{1+x} , \\; x_0 = 0, \\; n =10\n",
    "$$\n",
    "\n",
    "$$\n",
    "\\sqrt{1-x} , \\; x_0 = 0, \\; n =3\n",
    "$$"
   ]
  },
  {
   "cell_type": "code",
   "execution_count": 52,
   "id": "19124475",
   "metadata": {
    "hidden": true
   },
   "outputs": [],
   "source": [
    "# write your solution here"
   ]
  },
  {
   "cell_type": "code",
   "execution_count": 53,
   "id": "1c71108f",
   "metadata": {
    "hidden": true
   },
   "outputs": [],
   "source": [
    "# write your solution here"
   ]
  },
  {
   "cell_type": "code",
   "execution_count": 54,
   "id": "d7b44253",
   "metadata": {
    "hidden": true
   },
   "outputs": [],
   "source": [
    "# write your solution here"
   ]
  },
  {
   "cell_type": "markdown",
   "id": "25b61502",
   "metadata": {
    "heading_collapsed": true
   },
   "source": [
    "### 7. Differential equations"
   ]
  },
  {
   "cell_type": "markdown",
   "id": "7dda7aba",
   "metadata": {
    "hidden": true
   },
   "source": [
    "To solve differential equations, use ``dsolve()``. First, you need to create an undefined function by passing ``cls=Function`` to the ``symbols`` function:"
   ]
  },
  {
   "cell_type": "code",
   "execution_count": 55,
   "id": "65c75fc9",
   "metadata": {
    "hidden": true
   },
   "outputs": [],
   "source": [
    "f, g = symbols('f g', cls=Function)"
   ]
  },
  {
   "cell_type": "markdown",
   "id": "a096814c",
   "metadata": {
    "hidden": true
   },
   "source": [
    "``f`` and ``g`` are now undefined functions. We can call ``f(x)``, and it will represent an unknown function:"
   ]
  },
  {
   "cell_type": "code",
   "execution_count": 56,
   "id": "eb40ec7c",
   "metadata": {
    "hidden": true
   },
   "outputs": [
    {
     "data": {
      "image/png": "[encoded data removed]",
      "text/latex": [
       "$\\displaystyle f{\\left(x \\right)}$"
      ],
      "text/plain": [
       "f(x)"
      ]
     },
     "execution_count": 56,
     "metadata": {},
     "output_type": "execute_result"
    }
   ],
   "source": [
    "f(x)"
   ]
  },
  {
   "cell_type": "markdown",
   "id": "8b4a1aba",
   "metadata": {
    "hidden": true
   },
   "source": [
    "Derivatives of ``f(x)`` are unevaluated:"
   ]
  },
  {
   "cell_type": "code",
   "execution_count": 57,
   "id": "638f6c8b",
   "metadata": {
    "hidden": true
   },
   "outputs": [
    {
     "data": {
      "image/png": "[encoded data removed]",
      "text/latex": [
       "$\\displaystyle \\frac{d}{d x} f{\\left(x \\right)}$"
      ],
      "text/plain": [
       "d       \n",
       "──(f(x))\n",
       "dx      "
      ]
     },
     "execution_count": 57,
     "metadata": {},
     "output_type": "execute_result"
    }
   ],
   "source": [
    "f(x).diff(x)"
   ]
  },
  {
   "cell_type": "markdown",
   "id": "d79a44eb",
   "metadata": {
    "hidden": true
   },
   "source": [
    "To solve an ODE, we need to pass it and the unknown function to ``dsolve()``, that is:\n",
    "\n",
    "- ``dsolve(differential_equation, unknown_function)``\n",
    "\n",
    "For example, to solve the differential equation $f''(x) - 2 f'(x)+ f(x) = \\sin(x)$, write:"
   ]
  },
  {
   "cell_type": "code",
   "execution_count": 58,
   "id": "7e316b96",
   "metadata": {
    "hidden": true
   },
   "outputs": [
    {
     "data": {
      "image/png": "[encoded data removed]",
      "text/latex": [
       "$\\displaystyle f{\\left(x \\right)} = \\left(C_{1} + C_{2} x\\right) e^{x} + \\frac{\\cos{\\left(x \\right)}}{2}$"
      ],
      "text/plain": [
       "                    x   cos(x)\n",
       "f(x) = (C₁ + C₂⋅x)⋅ℯ  + ──────\n",
       "                          2   "
      ]
     },
     "execution_count": 58,
     "metadata": {},
     "output_type": "execute_result"
    }
   ],
   "source": [
    "dsolve(f(x).diff(x, x) - 2*f(x).diff(x) + f(x) - sin(x), f(x))"
   ]
  },
  {
   "cell_type": "markdown",
   "id": "b92bfe95",
   "metadata": {
    "hidden": true
   },
   "source": [
    "Here ``C1`` and ``C2`` are arbitrary constants."
   ]
  },
  {
   "cell_type": "markdown",
   "id": "203efe87",
   "metadata": {
    "hidden": true
   },
   "source": [
    "**Exercise 7.1** Solve the following differential equations:\n",
    "\n",
    "$$\n",
    "f''(x) = f(x)\n",
    "$$\n",
    "\n",
    "$$\n",
    "f''(x) + 3 f'(x) - 4 f(x) = e^{5x}\n",
    "$$\n",
    "\n",
    "$$\n",
    "x^2 f''(x) + x f'(x) + f(x) = x^4 - 3\n",
    "$$\n",
    "\n",
    "$$\n",
    "f''(x) + (x-1) f'(x) - 2 f(x) = 0\n",
    "$$"
   ]
  },
  {
   "cell_type": "code",
   "execution_count": 59,
   "id": "e17f20df",
   "metadata": {
    "hidden": true
   },
   "outputs": [],
   "source": [
    "# write your solution here"
   ]
  },
  {
   "cell_type": "code",
   "execution_count": 60,
   "id": "7307193e",
   "metadata": {
    "hidden": true
   },
   "outputs": [],
   "source": [
    "# write your solution here"
   ]
  },
  {
   "cell_type": "code",
   "execution_count": 61,
   "id": "70cb5327",
   "metadata": {
    "hidden": true
   },
   "outputs": [],
   "source": [
    "# write your solution here"
   ]
  },
  {
   "cell_type": "code",
   "execution_count": 62,
   "id": "aa358e55",
   "metadata": {
    "hidden": true
   },
   "outputs": [],
   "source": [
    "# write your solution here"
   ]
  },
  {
   "cell_type": "markdown",
   "id": "71970359",
   "metadata": {
    "heading_collapsed": true
   },
   "source": [
    "### 8. Matrices"
   ]
  },
  {
   "cell_type": "markdown",
   "id": "01d9334b",
   "metadata": {
    "hidden": true
   },
   "source": [
    "To make a matrix in SymPy, use the ``Matrix`` object. A matrix is constructed by providing a list of row vectors that make up the matrix. For example, to construct the matrix\n",
    "\n",
    "$$\n",
    "\\begin{bmatrix}\n",
    "1 & -1 \\\\\n",
    "3 & 4 \\\\\n",
    "0 & 2\n",
    "\\end{bmatrix}\n",
    "$$\n",
    "\n",
    "use"
   ]
  },
  {
   "cell_type": "code",
   "execution_count": 63,
   "id": "9ef36181",
   "metadata": {
    "hidden": true
   },
   "outputs": [
    {
     "data": {
      "text/latex": [
       "$\\displaystyle \\left[\\begin{matrix}1 & -1\\\\3 & 4\\\\0 & 2\\end{matrix}\\right]$"
      ],
      "text/plain": [
       "⎡1  -1⎤\n",
       "⎢     ⎥\n",
       "⎢3  4 ⎥\n",
       "⎢     ⎥\n",
       "⎣0  2 ⎦"
      ]
     },
     "execution_count": 63,
     "metadata": {},
     "output_type": "execute_result"
    }
   ],
   "source": [
    "Matrix([[1, -1], [3, 4], [0, 2]])"
   ]
  },
  {
   "cell_type": "markdown",
   "id": "1d20c6a3",
   "metadata": {
    "hidden": true
   },
   "source": [
    "To make it easy to make column vectors, a list of elements is considered to be a column vector."
   ]
  },
  {
   "cell_type": "code",
   "execution_count": 64,
   "id": "dbf753e3",
   "metadata": {
    "hidden": true
   },
   "outputs": [
    {
     "data": {
      "text/latex": [
       "$\\displaystyle \\left[\\begin{matrix}1\\\\2\\\\3\\end{matrix}\\right]$"
      ],
      "text/plain": [
       "⎡1⎤\n",
       "⎢ ⎥\n",
       "⎢2⎥\n",
       "⎢ ⎥\n",
       "⎣3⎦"
      ]
     },
     "execution_count": 64,
     "metadata": {},
     "output_type": "execute_result"
    }
   ],
   "source": [
    "Matrix([1, 2, 3])"
   ]
  },
  {
   "cell_type": "markdown",
   "id": "e23e8187",
   "metadata": {
    "hidden": true
   },
   "source": [
    "Matrices are manipulated just like any other object in SymPy or Python."
   ]
  },
  {
   "cell_type": "code",
   "execution_count": 65,
   "id": "1d489ec4",
   "metadata": {
    "hidden": true
   },
   "outputs": [
    {
     "data": {
      "text/latex": [
       "$\\displaystyle \\left[\\begin{matrix}5\\\\3\\end{matrix}\\right]$"
      ],
      "text/plain": [
       "⎡5⎤\n",
       "⎢ ⎥\n",
       "⎣3⎦"
      ]
     },
     "execution_count": 65,
     "metadata": {},
     "output_type": "execute_result"
    }
   ],
   "source": [
    "M = Matrix([[1, 2, 3], [3, 2, 1]])\n",
    "N = Matrix([0, 1, 1])\n",
    "M*N"
   ]
  },
  {
   "cell_type": "markdown",
   "id": "153dc946",
   "metadata": {
    "hidden": true
   },
   "source": [
    "Transposition:"
   ]
  },
  {
   "cell_type": "code",
   "execution_count": 66,
   "id": "8e32b7e2",
   "metadata": {
    "hidden": true
   },
   "outputs": [
    {
     "data": {
      "text/latex": [
       "$\\displaystyle \\left[\\begin{matrix}1 & 2 & 3\\\\3 & 2 & 1\\end{matrix}\\right]$"
      ],
      "text/plain": [
       "⎡1  2  3⎤\n",
       "⎢       ⎥\n",
       "⎣3  2  1⎦"
      ]
     },
     "execution_count": 66,
     "metadata": {},
     "output_type": "execute_result"
    }
   ],
   "source": [
    "M"
   ]
  },
  {
   "cell_type": "code",
   "execution_count": 67,
   "id": "26eb4997",
   "metadata": {
    "hidden": true
   },
   "outputs": [
    {
     "data": {
      "text/latex": [
       "$\\displaystyle \\left[\\begin{matrix}1 & 3\\\\2 & 2\\\\3 & 1\\end{matrix}\\right]$"
      ],
      "text/plain": [
       "⎡1  3⎤\n",
       "⎢    ⎥\n",
       "⎢2  2⎥\n",
       "⎢    ⎥\n",
       "⎣3  1⎦"
      ]
     },
     "execution_count": 67,
     "metadata": {},
     "output_type": "execute_result"
    }
   ],
   "source": [
    "M.T"
   ]
  },
  {
   "cell_type": "markdown",
   "id": "b7ca46dc",
   "metadata": {
    "hidden": true
   },
   "source": [
    "Determinant:"
   ]
  },
  {
   "cell_type": "code",
   "execution_count": 68,
   "id": "d7aa6ca1",
   "metadata": {
    "hidden": true
   },
   "outputs": [
    {
     "data": {
      "image/png": "[encoded data removed]",
      "text/latex": [
       "$\\displaystyle 12$"
      ],
      "text/plain": [
       "12"
      ]
     },
     "execution_count": 68,
     "metadata": {},
     "output_type": "execute_result"
    }
   ],
   "source": [
    "A = Matrix([[1, 2, 3], [3, 2, 1], [5,7,6]])\n",
    "A.det()"
   ]
  },
  {
   "cell_type": "markdown",
   "id": "b6f3eb9c",
   "metadata": {
    "hidden": true
   },
   "source": [
    "To find the eigenvalues of a matrix, use ``eigenvals()``. It returns a dictionary of eigenvalues and their multiplicities."
   ]
  },
  {
   "cell_type": "code",
   "execution_count": 69,
   "id": "25152217",
   "metadata": {
    "hidden": true
   },
   "outputs": [
    {
     "data": {
      "text/latex": [
       "$\\displaystyle \\left[\\begin{matrix}3 & -2 & 4 & -2\\\\5 & 3 & -3 & -2\\\\5 & -2 & 2 & -2\\\\5 & -2 & -3 & 3\\end{matrix}\\right]$"
      ],
      "text/plain": [
       "⎡3  -2  4   -2⎤\n",
       "⎢             ⎥\n",
       "⎢5  3   -3  -2⎥\n",
       "⎢             ⎥\n",
       "⎢5  -2  2   -2⎥\n",
       "⎢             ⎥\n",
       "⎣5  -2  -3  3 ⎦"
      ]
     },
     "execution_count": 69,
     "metadata": {},
     "output_type": "execute_result"
    }
   ],
   "source": [
    "M = Matrix([[3, -2,  4, -2], [5,  3, -3, -2], [5, -2,  2, -2], [5, -2, -3,  3]])\n",
    "M"
   ]
  },
  {
   "cell_type": "code",
   "execution_count": 70,
   "id": "11f63a76",
   "metadata": {
    "hidden": true
   },
   "outputs": [
    {
     "data": {
      "image/png": "[encoded data removed]",
      "text/latex": [
       "$\\displaystyle \\left\\{ -2 : 1, \\  3 : 1, \\  5 : 2\\right\\}$"
      ],
      "text/plain": [
       "{-2: 1, 3: 1, 5: 2}"
      ]
     },
     "execution_count": 70,
     "metadata": {},
     "output_type": "execute_result"
    }
   ],
   "source": [
    "M.eigenvals()"
   ]
  },
  {
   "cell_type": "markdown",
   "id": "ffcb7458",
   "metadata": {
    "hidden": true
   },
   "source": [
    "To find the eigenvectors of a matrix, use ``eigenvects()``. it returns a list of tuples of the form:\n",
    "\n",
    "- ``(eigenvalue, algebraic_multiplicity, [eigenvectors])``"
   ]
  },
  {
   "cell_type": "code",
   "execution_count": 71,
   "id": "d2d7a4ee",
   "metadata": {
    "hidden": true
   },
   "outputs": [
    {
     "data": {
      "text/latex": [
       "$\\displaystyle \\left[ \\left( -2, \\  1, \\  \\left[ \\left[\\begin{matrix}0\\\\1\\\\1\\\\1\\end{matrix}\\right]\\right]\\right), \\  \\left( 3, \\  1, \\  \\left[ \\left[\\begin{matrix}1\\\\1\\\\1\\\\1\\end{matrix}\\right]\\right]\\right), \\  \\left( 5, \\  2, \\  \\left[ \\left[\\begin{matrix}1\\\\1\\\\1\\\\0\\end{matrix}\\right], \\  \\left[\\begin{matrix}0\\\\-1\\\\0\\\\1\\end{matrix}\\right]\\right]\\right)\\right]$"
      ],
      "text/plain": [
       "⎡⎛       ⎡⎡0⎤⎤⎞  ⎛      ⎡⎡1⎤⎤⎞  ⎛      ⎡⎡1⎤  ⎡0 ⎤⎤⎞⎤\n",
       "⎢⎜       ⎢⎢ ⎥⎥⎟  ⎜      ⎢⎢ ⎥⎥⎟  ⎜      ⎢⎢ ⎥  ⎢  ⎥⎥⎟⎥\n",
       "⎢⎜       ⎢⎢1⎥⎥⎟  ⎜      ⎢⎢1⎥⎥⎟  ⎜      ⎢⎢1⎥  ⎢-1⎥⎥⎟⎥\n",
       "⎢⎜-2, 1, ⎢⎢ ⎥⎥⎟, ⎜3, 1, ⎢⎢ ⎥⎥⎟, ⎜5, 2, ⎢⎢ ⎥, ⎢  ⎥⎥⎟⎥\n",
       "⎢⎜       ⎢⎢1⎥⎥⎟  ⎜      ⎢⎢1⎥⎥⎟  ⎜      ⎢⎢1⎥  ⎢0 ⎥⎥⎟⎥\n",
       "⎢⎜       ⎢⎢ ⎥⎥⎟  ⎜      ⎢⎢ ⎥⎥⎟  ⎜      ⎢⎢ ⎥  ⎢  ⎥⎥⎟⎥\n",
       "⎣⎝       ⎣⎣1⎦⎦⎠  ⎝      ⎣⎣1⎦⎦⎠  ⎝      ⎣⎣0⎦  ⎣1 ⎦⎦⎠⎦"
      ]
     },
     "execution_count": 71,
     "metadata": {},
     "output_type": "execute_result"
    }
   ],
   "source": [
    "M.eigenvects()"
   ]
  },
  {
   "cell_type": "markdown",
   "id": "63503cc9",
   "metadata": {
    "hidden": true
   },
   "source": [
    "To find the matrix inverse, use the ``.inv()`` method:"
   ]
  },
  {
   "cell_type": "code",
   "execution_count": 72,
   "id": "e1fad59d",
   "metadata": {
    "hidden": true
   },
   "outputs": [
    {
     "data": {
      "text/latex": [
       "$\\displaystyle \\left[\\begin{matrix}\\frac{1}{3} & \\frac{2}{15} & - \\frac{4}{15} & \\frac{2}{15}\\\\\\frac{5}{6} & \\frac{1}{3} & - \\frac{29}{30} & \\frac{2}{15}\\\\\\frac{5}{6} & \\frac{2}{15} & - \\frac{23}{30} & \\frac{2}{15}\\\\\\frac{5}{6} & \\frac{2}{15} & - \\frac{29}{30} & \\frac{1}{3}\\end{matrix}\\right]$"
      ],
      "text/plain": [
       "⎡1/3  2/15  -4/15  2/15⎤\n",
       "⎢                      ⎥\n",
       "⎢           -29        ⎥\n",
       "⎢5/6  1/3   ────   2/15⎥\n",
       "⎢            30        ⎥\n",
       "⎢                      ⎥\n",
       "⎢           -23        ⎥\n",
       "⎢5/6  2/15  ────   2/15⎥\n",
       "⎢            30        ⎥\n",
       "⎢                      ⎥\n",
       "⎢           -29        ⎥\n",
       "⎢5/6  2/15  ────   1/3 ⎥\n",
       "⎣            30        ⎦"
      ]
     },
     "execution_count": 72,
     "metadata": {},
     "output_type": "execute_result"
    }
   ],
   "source": [
    "M.inv()"
   ]
  },
  {
   "cell_type": "markdown",
   "id": "ae3f63ed",
   "metadata": {
    "hidden": true
   },
   "source": [
    "To diagonalize a matrix $A$ is to find an invertible matrix $P$ and a diagonal matrix $D$ such that $A=PDP^{-1}$. This is done as follows:"
   ]
  },
  {
   "cell_type": "code",
   "execution_count": 73,
   "id": "1bfae84d",
   "metadata": {
    "hidden": true
   },
   "outputs": [],
   "source": [
    "P, D = M.diagonalize()"
   ]
  },
  {
   "cell_type": "markdown",
   "id": "d529ac8e",
   "metadata": {
    "hidden": true
   },
   "source": [
    "where"
   ]
  },
  {
   "cell_type": "code",
   "execution_count": 74,
   "id": "f02d24e9",
   "metadata": {
    "hidden": true
   },
   "outputs": [
    {
     "data": {
      "text/latex": [
       "$\\displaystyle \\left[\\begin{matrix}0 & 1 & 1 & 0\\\\1 & 1 & 1 & -1\\\\1 & 1 & 1 & 0\\\\1 & 1 & 0 & 1\\end{matrix}\\right]$"
      ],
      "text/plain": [
       "⎡0  1  1  0 ⎤\n",
       "⎢           ⎥\n",
       "⎢1  1  1  -1⎥\n",
       "⎢           ⎥\n",
       "⎢1  1  1  0 ⎥\n",
       "⎢           ⎥\n",
       "⎣1  1  0  1 ⎦"
      ]
     },
     "execution_count": 74,
     "metadata": {},
     "output_type": "execute_result"
    }
   ],
   "source": [
    "P"
   ]
  },
  {
   "cell_type": "code",
   "execution_count": 75,
   "id": "ab555ad3",
   "metadata": {
    "hidden": true
   },
   "outputs": [
    {
     "data": {
      "text/latex": [
       "$\\displaystyle \\left[\\begin{matrix}-2 & 0 & 0 & 0\\\\0 & 3 & 0 & 0\\\\0 & 0 & 5 & 0\\\\0 & 0 & 0 & 5\\end{matrix}\\right]$"
      ],
      "text/plain": [
       "⎡-2  0  0  0⎤\n",
       "⎢           ⎥\n",
       "⎢0   3  0  0⎥\n",
       "⎢           ⎥\n",
       "⎢0   0  5  0⎥\n",
       "⎢           ⎥\n",
       "⎣0   0  0  5⎦"
      ]
     },
     "execution_count": 75,
     "metadata": {},
     "output_type": "execute_result"
    }
   ],
   "source": [
    "D"
   ]
  },
  {
   "cell_type": "markdown",
   "id": "854bb1fb",
   "metadata": {
    "hidden": true
   },
   "source": [
    "Let us verify the answer:"
   ]
  },
  {
   "cell_type": "code",
   "execution_count": 76,
   "id": "9c7da152",
   "metadata": {
    "hidden": true
   },
   "outputs": [
    {
     "data": {
      "text/latex": [
       "$\\displaystyle \\left[\\begin{matrix}0 & 0 & 0 & 0\\\\0 & 0 & 0 & 0\\\\0 & 0 & 0 & 0\\\\0 & 0 & 0 & 0\\end{matrix}\\right]$"
      ],
      "text/plain": [
       "⎡0  0  0  0⎤\n",
       "⎢          ⎥\n",
       "⎢0  0  0  0⎥\n",
       "⎢          ⎥\n",
       "⎢0  0  0  0⎥\n",
       "⎢          ⎥\n",
       "⎣0  0  0  0⎦"
      ]
     },
     "execution_count": 76,
     "metadata": {},
     "output_type": "execute_result"
    }
   ],
   "source": [
    "P*D*(P.inv()) - M"
   ]
  },
  {
   "cell_type": "markdown",
   "id": "32feb4ad",
   "metadata": {
    "hidden": true
   },
   "source": [
    "Note that not all matrices are diagonalizable. You can check if a matrix is diagonalizable by calling its ``is_diagonalizable()`` method:"
   ]
  },
  {
   "cell_type": "code",
   "execution_count": 77,
   "id": "818cb881",
   "metadata": {
    "hidden": true
   },
   "outputs": [
    {
     "data": {
      "text/plain": [
       "True"
      ]
     },
     "execution_count": 77,
     "metadata": {},
     "output_type": "execute_result"
    }
   ],
   "source": [
    "M.is_diagonalizable()"
   ]
  },
  {
   "cell_type": "markdown",
   "id": "8f080b6d",
   "metadata": {
    "hidden": true
   },
   "source": [
    "**Exercise 8.1** Diagonalize the following matrix:\n",
    "\n",
    "$$\n",
    "M = \n",
    "\\begin{bmatrix} \n",
    "0 & 2 & -1 \\\\\n",
    "2 & 0 & -1 \\\\\n",
    "-1 & -1 & 2\n",
    "\\end{bmatrix}\n",
    "$$"
   ]
  },
  {
   "cell_type": "code",
   "execution_count": 78,
   "id": "10d69bff",
   "metadata": {
    "hidden": true
   },
   "outputs": [],
   "source": [
    "# write your solution here"
   ]
  },
  {
   "cell_type": "code",
   "execution_count": 79,
   "id": "d54e5a42",
   "metadata": {
    "hidden": true
   },
   "outputs": [],
   "source": [
    "# write your solution here"
   ]
  },
  {
   "cell_type": "code",
   "execution_count": 80,
   "id": "f3429e04",
   "metadata": {
    "hidden": true
   },
   "outputs": [],
   "source": [
    "# write your solution here"
   ]
  },
  {
   "cell_type": "code",
   "execution_count": 81,
   "id": "09cb96ad",
   "metadata": {
    "hidden": true
   },
   "outputs": [],
   "source": [
    "# write your solution here"
   ]
  }
 ],
 "metadata": {
  "kernelspec": {
   "display_name": "Python 3 (ipykernel)",
   "language": "python",
   "name": "python3"
  },
  "language_info": {
   "codemirror_mode": {
    "name": "ipython",
    "version": 3
   },
   "file_extension": ".py",
   "mimetype": "text/x-python",
   "name": "python",
   "nbconvert_exporter": "python",
   "pygments_lexer": "ipython3",
   "version": "3.9.13"
  },
  "latex_envs": {
   "LaTeX_envs_menu_present": true,
   "autoclose": false,
   "autocomplete": true,
   "bibliofile": "biblio.bib",
   "cite_by": "apalike",
   "current_citInitial": 1,
   "eqLabelWithNumbers": true,
   "eqNumInitial": 1,
   "hotkeys": {
    "equation": "Ctrl-E",
    "itemize": "Ctrl-I"
   },
   "labels_anchors": false,
   "latex_user_defs": false,
   "report_style_numbering": false,
   "user_envs_cfg": false
  }
 },
 "nbformat": 4,
 "nbformat_minor": 5
}
